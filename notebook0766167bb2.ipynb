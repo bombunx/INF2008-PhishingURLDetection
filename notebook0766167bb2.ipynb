{
  "metadata": {
    "kernelspec": {
      "name": "python3",
      "display_name": "Python 3",
      "language": "python"
    },
    "language_info": {
      "name": "python",
      "version": "3.10.14",
      "mimetype": "text/x-python",
      "codemirror_mode": {
        "name": "ipython",
        "version": 3
      },
      "pygments_lexer": "ipython3",
      "nbconvert_exporter": "python",
      "file_extension": ".py"
    },
    "deepnote_notebook_id": "52e277911cd642aaa3a4b60d34f197cb",
    "deepnote_execution_queue": [],
    "kaggle": {
      "accelerator": "none",
      "dataSources": [
        {
          "sourceId": 1359146,
          "sourceType": "datasetVersion",
          "datasetId": 791543
        }
      ],
      "dockerImageVersionId": 30761,
      "isInternetEnabled": false,
      "language": "python",
      "sourceType": "notebook",
      "isGpuEnabled": false
    },
    "colab": {
      "name": "notebook0766167bb2",
      "provenance": [],
      "include_colab_link": true
    }
  },
  "nbformat_minor": 0,
  "nbformat": 4,
  "cells": [
    {
      "cell_type": "markdown",
      "metadata": {
        "id": "view-in-github",
        "colab_type": "text"
      },
      "source": [
        "<a href=\"https://colab.research.google.com/github/bombunx/INF2008-PhishingURLDetection/blob/main/notebook0766167bb2.ipynb\" target=\"_parent\"><img src=\"https://colab.research.google.com/assets/colab-badge.svg\" alt=\"Open In Colab\"/></a>"
      ]
    },
    {
      "source": [
        "# IMPORTANT: RUN THIS CELL IN ORDER TO IMPORT YOUR KAGGLE DATA SOURCES,\n",
        "# THEN FEEL FREE TO DELETE THIS CELL.\n",
        "# NOTE: THIS NOTEBOOK ENVIRONMENT DIFFERS FROM KAGGLE'S PYTHON\n",
        "# ENVIRONMENT SO THERE MAY BE MISSING LIBRARIES USED BY YOUR\n",
        "# NOTEBOOK.\n",
        "import kagglehub\n",
        "taruntiwarihp_phishing_site_urls_path = kagglehub.dataset_download('taruntiwarihp/phishing-site-urls')\n",
        "\n",
        "print('Data source import complete.')\n"
      ],
      "metadata": {
        "id": "Zi27A9od5iZX"
      },
      "cell_type": "code",
      "outputs": [],
      "execution_count": null
    },
    {
      "cell_type": "markdown",
      "source": [
        "# Phishing Detection: Feature Extraction and Construction of a Machine Learning model\n",
        "\n",
        "In this brief project, we'll develop a ML model to predict whether an URL is used for phishing. We'll start from a raw dataset with just two columns:\n",
        "\n",
        "- **URL:** URL string\n",
        "- **Label:** Binary variable ('bad' if the URL is malicious and 'good' otherwise)"
      ],
      "metadata": {
        "formattedRanges": [],
        "cell_id": "6861800245ac4a7582b6eb3c93767faf",
        "deepnote_cell_type": "text-cell-h1",
        "id": "ZBLp5YMu5iZZ"
      }
    },
    {
      "cell_type": "code",
      "source": [
        "#Importing necessary libraries\n",
        "!pip install tldextract\n",
        "import pandas as pd\n",
        "import numpy as np\n",
        "import seaborn as sns\n",
        "import math\n",
        "import matplotlib.pyplot as plt\n",
        "from xgboost import XGBClassifier\n",
        "from sklearn.ensemble import RandomForestClassifier\n",
        "from sklearn.model_selection import train_test_split, RandomizedSearchCV\n",
        "from sklearn.decomposition import PCA\n",
        "from sklearn.preprocessing import StandardScaler\n",
        "import warnings\n",
        "from scipy.stats import randint, uniform\n",
        "import random\n",
        "from sklearn.model_selection import KFold, cross_val_score\n",
        "import re\n",
        "import tldextract\n",
        "from urllib.parse import urlparse\n",
        "from collections import Counter\n",
        "from scipy.stats import entropy\n",
        "warnings.filterwarnings(\"ignore\")"
      ],
      "metadata": {
        "source_hash": "32c1d581",
        "execution_start": 1726932685003,
        "execution_millis": 1197,
        "execution_context_id": "9101b88c-106c-4b56-800a-b4ec42f20a3d",
        "deepnote_to_be_reexecuted": false,
        "cell_id": "7ce910c6d9c1421a919e293a11c698fe",
        "deepnote_cell_type": "code",
        "execution": {
          "iopub.status.busy": "2024-09-21T18:58:10.86058Z",
          "iopub.execute_input": "2024-09-21T18:58:10.861007Z",
          "iopub.status.idle": "2024-09-21T18:58:28.527779Z",
          "shell.execute_reply.started": "2024-09-21T18:58:10.860965Z",
          "shell.execute_reply": "2024-09-21T18:58:28.526701Z"
        },
        "trusted": true,
        "id": "b77LSXDD5iZZ"
      },
      "outputs": [],
      "execution_count": null
    },
    {
      "cell_type": "markdown",
      "source": [
        "We import the raw dataset."
      ],
      "metadata": {
        "formattedRanges": [],
        "cell_id": "61959fcaae984b458b965faf4fe7735c",
        "deepnote_cell_type": "text-cell-p",
        "id": "7IxM6uBy5iZa"
      }
    },
    {
      "cell_type": "code",
      "source": [
        "X = pd.read_csv('/kaggle/input/phishing-site-urls/phishing_site_urls.csv')\n",
        "\n",
        "X['URL'].str.strip()  # Remove unnecessary whitespaces\n",
        "\n",
        "X"
      ],
      "metadata": {
        "source_hash": "717bf98d",
        "execution_start": 1726932686253,
        "execution_millis": 940,
        "execution_context_id": "9101b88c-106c-4b56-800a-b4ec42f20a3d",
        "cell_id": "caefe04d02164355853781563519c678",
        "deepnote_cell_type": "code",
        "execution": {
          "iopub.status.busy": "2024-09-21T18:58:28.530014Z",
          "iopub.execute_input": "2024-09-21T18:58:28.53056Z",
          "iopub.status.idle": "2024-09-21T18:58:29.805273Z",
          "shell.execute_reply.started": "2024-09-21T18:58:28.530519Z",
          "shell.execute_reply": "2024-09-21T18:58:29.804024Z"
        },
        "trusted": true,
        "id": "B6WB2Zkh5iZa"
      },
      "outputs": [],
      "execution_count": null
    },
    {
      "cell_type": "markdown",
      "source": [
        "## Study of Special Characters in 'bad' URLs\n",
        "\n",
        "Besides dots (.) and slashes (/), there are other non-alphanumerical characters that appear in URLs and some of them are often associated to malicious websites. From now on we'll use the term ***special character*** to refer to non-alphanumerical characters different from dots and slashes. To study the frequencies of special characters in bad URLs we'll construct a dataframe with three columns:"
      ],
      "metadata": {
        "formattedRanges": [],
        "cell_id": "f370574053c8446196b8025edff8dbc7",
        "deepnote_cell_type": "text-cell-h2",
        "id": "SjY1OwPL5iZa"
      }
    },
    {
      "cell_type": "markdown",
      "source": [
        "- **Special Character:** this column contains special characters that appear in the bad URLs of the dataset.\n",
        "- **Frequency in bad URLs:** number of bad URLs in which the special character appears.\n",
        "- **Bad probability:** percentage of bad URLs in which the special character appears over all of the URLs in which the special character appears.\n",
        "- **Danger Score:** the danger score of the URL is calculated as follows"
      ],
      "metadata": {
        "formattedRanges": [
          {
            "type": "marks",
            "marks": {
              "bold": true
            },
            "toCodePoint": 19,
            "fromCodePoint": 0
          }
        ],
        "cell_id": "efcaea91940c4b478fa2d641ac7ee792",
        "deepnote_cell_type": "text-cell-bullet",
        "id": "GVoGUDaN5iZa"
      }
    },
    {
      "cell_type": "markdown",
      "source": [
        "$$\\text{Danger score} = \\text{Bad probability}\\cdot \\log(\\text{Frequency in bad URLs})$$"
      ],
      "metadata": {
        "formattedRanges": [
          {
            "type": "marks",
            "marks": {
              "color": "#0C5CED"
            },
            "toCodePoint": 67,
            "fromCodePoint": 65
          },
          {
            "type": "marks",
            "marks": {
              "bold": true,
              "color": "#0C5CED"
            },
            "toCodePoint": 126,
            "fromCodePoint": 67
          }
        ],
        "cell_id": "e47cff6ed69c45f6b1157c176a6cf698",
        "deepnote_cell_type": "text-cell-p",
        "id": "IezsDTtt5iZb"
      }
    },
    {
      "cell_type": "code",
      "source": [
        "special_df = pd.DataFrame()\n",
        "\n",
        "special_chars = set()\n",
        "\n",
        "def find_special_char(x):\n",
        "    special_chars_in_x = re.findall(r'[^a-zA-Z0-9]', x)\n",
        "    special_chars.update(special_chars_in_x)\n",
        "    return None\n",
        "\n",
        "X_bad = X[X['Label'] == 'bad']\n",
        "X_bad['URL'].apply(find_special_char)\n",
        "\n",
        "special_chars = list(special_chars)\n",
        "\n",
        "special_chars.remove('.')\n",
        "special_chars.remove('/')\n",
        "\n",
        "special_df['Special Character'] = special_chars\n",
        "special_df['Frequency in bad URLs'] = special_df['Special Character'].apply(lambda x: X_bad[X_bad['URL'].str.contains(re.escape(x), regex=True)].shape[0])\n",
        "special_df['Bad probability'] = special_df['Frequency in bad URLs']/special_df['Special Character'].apply(lambda x: X[X['URL'].str.contains(re.escape(x), regex=True)].shape[0])\n",
        "special_df['Score'] = special_df['Bad probability']*special_df['Frequency in bad URLs'].apply(math.log)\n",
        "\n",
        "special_df.sort_values(by='Score', ignore_index=True, ascending=False, inplace=True)\n",
        "special_df"
      ],
      "metadata": {
        "source_hash": "a60a7db9",
        "execution_start": 1726932687241,
        "execution_millis": 46820,
        "deepnote_table_state": {
          "sortBy": [],
          "filters": [],
          "pageSize": 10,
          "pageIndex": 8,
          "conditionalFilters": []
        },
        "execution_context_id": "9101b88c-106c-4b56-800a-b4ec42f20a3d",
        "deepnote_table_loading": false,
        "cell_id": "e5cb76b0051246ef87cd820920bdff4c",
        "deepnote_cell_type": "code",
        "execution": {
          "iopub.status.busy": "2024-09-21T18:58:29.806462Z",
          "iopub.execute_input": "2024-09-21T18:58:29.80684Z",
          "iopub.status.idle": "2024-09-21T18:59:12.832687Z",
          "shell.execute_reply.started": "2024-09-21T18:58:29.806766Z",
          "shell.execute_reply": "2024-09-21T18:59:12.831569Z"
        },
        "trusted": true,
        "id": "vx7LvU3u5iZb"
      },
      "outputs": [],
      "execution_count": null
    },
    {
      "cell_type": "markdown",
      "source": [
        "From now on we'll call the top ten characters of this list ***dangerous characters***."
      ],
      "metadata": {
        "formattedRanges": [
          {
            "type": "marks",
            "marks": {
              "bold": true,
              "italic": true,
              "underline": true
            },
            "toCodePoint": 80,
            "fromCodePoint": 59
          }
        ],
        "cell_id": "376fe3d714d1410991f84e89643f512d",
        "deepnote_cell_type": "text-cell-p",
        "id": "VC7vn2_h5iZb"
      }
    },
    {
      "cell_type": "code",
      "source": [
        "dangerous_chars = list(special_df['Special Character'].head(10))\n",
        "print(dangerous_chars)\n",
        "plt.bar(special_df['Special Character'].head(10), special_df['Score'].head(10), color = 'green')\n",
        "plt.xlabel('Special Character')\n",
        "plt.ylabel('Score')\n",
        "plt.show()"
      ],
      "metadata": {
        "source_hash": "10303e5f",
        "execution_start": 1726932734106,
        "execution_millis": 0,
        "deepnote_table_state": {
          "sortBy": [],
          "filters": [],
          "pageSize": 10,
          "pageIndex": 0,
          "conditionalFilters": []
        },
        "execution_context_id": "9101b88c-106c-4b56-800a-b4ec42f20a3d",
        "deepnote_table_loading": false,
        "cell_id": "2c160df296f14c64af5504e1bc450de7",
        "deepnote_cell_type": "code",
        "execution": {
          "iopub.status.busy": "2024-09-21T18:59:12.834841Z",
          "iopub.execute_input": "2024-09-21T18:59:12.835211Z",
          "iopub.status.idle": "2024-09-21T18:59:13.114007Z",
          "shell.execute_reply.started": "2024-09-21T18:59:12.835174Z",
          "shell.execute_reply": "2024-09-21T18:59:13.112556Z"
        },
        "trusted": true,
        "id": "Db5gLveU5iZb"
      },
      "outputs": [],
      "execution_count": null
    },
    {
      "cell_type": "markdown",
      "source": [
        "## Study of TLDs in 'bad' URLs\n",
        "\n",
        "Similarly to what we did before, we want to study the TLDs of our 'bad' URLs and extract the top 10 most dangerous of them. The approach will be basically the same as before."
      ],
      "metadata": {
        "formattedRanges": [],
        "cell_id": "fb8b140b74b44979a70117c5c0faed95",
        "deepnote_cell_type": "text-cell-h2",
        "id": "cHUeHcuc5iZb"
      }
    },
    {
      "cell_type": "code",
      "source": [
        "TLD_df = pd.DataFrame()\n",
        "\n",
        "TLD_list = pd.Series(X_bad['URL'].apply(lambda x: tldextract.extract(x).suffix)).unique()\n",
        "\n",
        "TLD_df['TLD'] = TLD_list\n",
        "\n",
        "TLD_df['Frequency in bad URLs'] = TLD_df['TLD'].apply(lambda x: X_bad[X_bad['URL'].str.contains(re.escape(x), regex=True)].shape[0])\n",
        "TLD_df['Bad probability'] = TLD_df['Frequency in bad URLs']/TLD_df['TLD'].apply(lambda x: X[X['URL'].str.contains(re.escape(x), regex=True)].shape[0])\n",
        "TLD_df['Score'] = TLD_df['Bad probability']*TLD_df['Frequency in bad URLs'].apply(math.log)\n",
        "\n",
        "TLD_df.sort_values(by='Score', ignore_index=True, ascending=False, inplace=True)\n",
        "TLD_df"
      ],
      "metadata": {
        "source_hash": "3ab50360",
        "execution_start": 1726932734164,
        "execution_millis": 188975,
        "deepnote_table_state": {
          "sortBy": [],
          "filters": [],
          "pageSize": 10,
          "pageIndex": 1,
          "conditionalFilters": []
        },
        "execution_context_id": "9101b88c-106c-4b56-800a-b4ec42f20a3d",
        "deepnote_table_loading": false,
        "cell_id": "8d5ad07f731b4c0b8b1ece7c1208e700",
        "deepnote_cell_type": "code",
        "execution": {
          "iopub.status.busy": "2024-09-21T18:59:13.115558Z",
          "iopub.execute_input": "2024-09-21T18:59:13.116022Z",
          "iopub.status.idle": "2024-09-21T19:02:02.096278Z",
          "shell.execute_reply.started": "2024-09-21T18:59:13.115969Z",
          "shell.execute_reply": "2024-09-21T19:02:02.095005Z"
        },
        "trusted": true,
        "id": "X2EKwdRp5iZb"
      },
      "outputs": [],
      "execution_count": null
    },
    {
      "cell_type": "code",
      "source": [
        "dangerous_TLDs = list(TLD_df['TLD'].head(10))\n",
        "print(dangerous_TLDs)\n",
        "plt.bar(TLD_df['TLD'].head(10), TLD_df['Score'].head(10), color = 'green')\n",
        "plt.xlabel('Dangerous TLD')\n",
        "plt.ylabel('Score')\n",
        "plt.show()"
      ],
      "metadata": {
        "source_hash": "de733323",
        "execution_start": 1726932923181,
        "execution_millis": 1,
        "execution_context_id": "9101b88c-106c-4b56-800a-b4ec42f20a3d",
        "cell_id": "0dd7bc146f9443ef8f21262d56c3ce69",
        "deepnote_cell_type": "code",
        "execution": {
          "iopub.status.busy": "2024-09-21T19:02:02.097631Z",
          "iopub.execute_input": "2024-09-21T19:02:02.098003Z",
          "iopub.status.idle": "2024-09-21T19:02:02.300131Z",
          "shell.execute_reply.started": "2024-09-21T19:02:02.097965Z",
          "shell.execute_reply": "2024-09-21T19:02:02.298816Z"
        },
        "trusted": true,
        "id": "f9yY12X15iZc"
      },
      "outputs": [],
      "execution_count": null
    },
    {
      "cell_type": "markdown",
      "source": [
        "These are the top 10 most dangerous TLDs in our dataframe (we'll call them ***dangerous TLDs***). So a URL that contains one of these TLDs is more likely to be \"bad\"."
      ],
      "metadata": {
        "formattedRanges": [
          {
            "type": "marks",
            "marks": {
              "bold": true,
              "italic": true,
              "underline": true
            },
            "toCodePoint": 89,
            "fromCodePoint": 75
          }
        ],
        "cell_id": "9748e0bebfb7480998f1b6413744faa2",
        "deepnote_cell_type": "text-cell-p",
        "id": "l72nwZjx5iZc"
      }
    },
    {
      "cell_type": "markdown",
      "source": [
        "## Feature Extraction\n",
        "\n",
        "We'll extract the following features from the raw data:"
      ],
      "metadata": {
        "is_collapsed": false,
        "formattedRanges": [],
        "deepnote_app_block_visible": false,
        "cell_id": "1abc811085d14ac1a36674624707b2a8",
        "deepnote_cell_type": "text-cell-h2",
        "id": "Dwvs0mMe5iZc"
      }
    },
    {
      "cell_type": "markdown",
      "source": [
        "- **URL length:** total length of the URL string.\n",
        "- **Number of dots:** number of dots in the URL.\n",
        "- **Number of slashes:**  number of slashes in the URL.\n",
        "- **Percentage of numerical characters:** percentage of numerical characters in the URL.\n",
        "- **Dangerous characters:** binary variable (True if there is a dangerous character in the URL and False otherwise)\n",
        "- **Dangerous TLD:** binary variable (True if the TLD of the URL is dangerous and False otherwise)\n",
        "- **Entropy:** Entropy of the URL .\n",
        "- **IP address:** binary variable (True if there is an IP address in the URL and False otherwise).\n",
        "- **Domain name length:** length of the main domain part (e.g. www.alligator.it has domain name lenght equal to 9).\n",
        "- **Suspicious keywords:** binary variable (True if there are suspicious keywords in the domain or path such as \"login\", \"secure\", \"verify\", \"bank\" and False otherwise). We'll use the following list of suspicious words\n",
        "\n",
        "    [secure, account, update, login, verify ,signin, bank,notify, click, inconvenient]\n",
        "                      \n",
        "     A reference for this list is *D. Ranganayakulu, Chellappan C.,Detecting Malicious URLs in E-mail – An Implementation, 2013, AASRI Procedia*.\n",
        "\n",
        "- **Repetitions:**  binary variable (True if the domain contains a substring of three identical characters and False otherwise).\n",
        "- **Redirections:** We remember that a double slash // in a URL corresponds to a redirection. Redirections are not necessarily malicious, but they may be if they aren't at the beginning at the URL. So Redirections is a binary variable (True if there is a // in a position higher than 7 and False otherwise, where by position of // we mean the position of the the character that preceds //). The bound 7 is chosen in order to avoid including the (generally safe) redirection of https:// and similar cases.\n"
      ],
      "metadata": {
        "formattedRanges": [
          {
            "type": "marks",
            "marks": {
              "bold": true
            },
            "toCodePoint": 11,
            "fromCodePoint": 0
          }
        ],
        "cell_id": "e158e466ab0b4883a2845df10ee8f3bf",
        "deepnote_cell_type": "text-cell-bullet",
        "id": "GS7D5Cik5iZc"
      }
    },
    {
      "cell_type": "code",
      "source": [
        "\n",
        "#1 URL length\n",
        "\n",
        "X['URL length'] = X['URL'].apply(len)\n",
        "\n",
        "#2 Numbers of dots\n",
        "\n",
        "X['Number of dots'] = X['URL'].apply(lambda x: x.count('.'))\n",
        "\n",
        "#3 Number of slashes\n",
        "\n",
        "X['Number of slashes'] = X['URL'].apply(lambda x: x.count('/'))\n",
        "\n",
        "#4 Percentage of numerical characters\n",
        "\n",
        "X['Percentage of numerical characters'] = X['URL'].apply(lambda x: sum(c.isdigit() for c in x))/X['URL length']\n",
        "\n",
        "#5 Dangerous characters\n",
        "\n",
        "X['Dangerous characters'] = X['URL'].apply(lambda x: any(char in x for char in dangerous_chars))\n",
        "\n",
        "#6 Dangerous TLD\n",
        "\n",
        "X['Dangerous TLD'] = X['URL'].apply(lambda x: tldextract.extract(x).suffix in dangerous_TLDs)\n",
        "\n",
        "#7 Entropy\n",
        "\n",
        "def urlentropy(url):\n",
        "    frequencies = Counter(url)\n",
        "    prob = [frequencies[char] / len(url) for char in url]\n",
        "    return entropy(prob, base=2)\n",
        "\n",
        "\n",
        "X['Entropy'] = X['URL'].apply(urlentropy)\n",
        "\n",
        "#8 IP Address\n",
        "\n",
        "ip_pattern = r'[0-9]+(?:\\.[0-9]+){3}'\n",
        "X['IP Address'] = X['URL'].apply(lambda x: bool(re.search(ip_pattern, x)))\n",
        "\n",
        "#9 Domain name length\n",
        "\n",
        "X['Domain name length'] = X['URL'].apply(lambda x: len(tldextract.extract(x).domain))\n",
        "\n",
        "#10 Suspicious keywords\n",
        "\n",
        "sus_words = ['secure', 'account', 'update', 'login', 'verify' ,'signin', 'bank',\n",
        "            'notify', 'click', 'inconvenient']\n",
        "\n",
        "X['Suspicious keywords'] = X['URL'].apply(lambda x: sum([word in x for word in sus_words]) != 0)\n",
        "\n",
        "\n",
        "#11 Repetitions\n",
        "\n",
        "X['Repetitions'] = X['URL'].apply(lambda x: True if re.search(r'(.)\\1{2,}', tldextract.extract(x).domain) else False)\n",
        "\n",
        "#12 Redirections\n",
        "\n",
        "def redirection(url):\n",
        "  pos = url.rfind('//') #If the // is not found, it returns -1\n",
        "  return pos>7\n",
        "\n",
        "X['Redirections'] = X['URL'].apply(redirection)\n",
        "\n",
        "#We print the new dataset\n",
        "\n",
        "X"
      ],
      "metadata": {
        "source_hash": "bb74d5b5",
        "execution_start": 1726933042305,
        "execution_millis": 51054,
        "deepnote_table_state": {
          "sortBy": [],
          "filters": [],
          "pageSize": 10,
          "pageIndex": 1,
          "conditionalFilters": []
        },
        "execution_context_id": "9101b88c-106c-4b56-800a-b4ec42f20a3d",
        "deepnote_table_loading": false,
        "cell_id": "2373c1fd057c4f8fa83637c96ce58f4f",
        "deepnote_cell_type": "code",
        "execution": {
          "iopub.status.busy": "2024-09-21T19:02:02.301831Z",
          "iopub.execute_input": "2024-09-21T19:02:02.30268Z",
          "iopub.status.idle": "2024-09-21T19:06:49.559048Z",
          "shell.execute_reply.started": "2024-09-21T19:02:02.302628Z",
          "shell.execute_reply": "2024-09-21T19:06:49.557503Z"
        },
        "trusted": true,
        "id": "iqZcenU65iZc"
      },
      "outputs": [],
      "execution_count": null
    },
    {
      "cell_type": "markdown",
      "source": [
        "## Exploratory Data Analysis and Feature Engineering"
      ],
      "metadata": {
        "formattedRanges": [],
        "cell_id": "33abb93807c8474d889ca3584093eda5",
        "deepnote_cell_type": "text-cell-h2",
        "id": "y7dix1XB5iZc"
      }
    },
    {
      "cell_type": "markdown",
      "source": [
        "We standardize numerical features (except the **Percentage of numerical characters**)."
      ],
      "metadata": {
        "formattedRanges": [
          {
            "type": "marks",
            "marks": {
              "bold": true
            },
            "toCodePoint": 94,
            "fromCodePoint": 60
          }
        ],
        "cell_id": "7a35925f7f9c47feb45beb5d45081980",
        "deepnote_cell_type": "text-cell-p",
        "id": "zsccErwN5iZc"
      }
    },
    {
      "cell_type": "code",
      "source": [
        "scaler = StandardScaler()\n",
        "\n",
        "num_columns = ['URL length', 'Number of dots', 'Number of slashes', 'Domain name length', 'Entropy']\n",
        "\n",
        "X[num_columns] = scaler.fit_transform(X[num_columns])"
      ],
      "metadata": {
        "source_hash": "c90fe5c0",
        "execution_start": 1726933093402,
        "execution_millis": 57,
        "execution_context_id": "9101b88c-106c-4b56-800a-b4ec42f20a3d",
        "cell_id": "5d1c49f009b04fc88ec2a0c4653bc3bb",
        "deepnote_cell_type": "code",
        "execution": {
          "iopub.status.busy": "2024-09-21T19:06:49.560905Z",
          "iopub.execute_input": "2024-09-21T19:06:49.561712Z",
          "iopub.status.idle": "2024-09-21T19:06:49.66116Z",
          "shell.execute_reply.started": "2024-09-21T19:06:49.561653Z",
          "shell.execute_reply": "2024-09-21T19:06:49.659819Z"
        },
        "trusted": true,
        "id": "ap8oU1Es5iZc"
      },
      "outputs": [],
      "execution_count": null
    },
    {
      "cell_type": "markdown",
      "source": [
        "We turn the boolean features and the target Label  into numerical data. Moreover we drop the **URL** feature because it's no longer useful."
      ],
      "metadata": {
        "formattedRanges": [
          {
            "type": "marks",
            "marks": {
              "bold": true
            },
            "toCodePoint": 51,
            "fromCodePoint": 44
          },
          {
            "type": "marks",
            "marks": {
              "bold": true
            },
            "toCodePoint": 96,
            "fromCodePoint": 93
          }
        ],
        "cell_id": "f7eb3339c6554de982d79b6deaf8c8de",
        "deepnote_cell_type": "text-cell-p",
        "id": "0VfOsIwu5iZc"
      }
    },
    {
      "cell_type": "code",
      "source": [
        "X['IP Address'] = X['IP Address'].astype(int)\n",
        "X['Suspicious keywords'] = X['Suspicious keywords'].astype(int)\n",
        "X['Repetitions'] = X['Repetitions'].astype(int)\n",
        "X['Redirections'] = X['Redirections'].astype(int)\n",
        "X['Dangerous characters'] = X['Dangerous characters'].astype(int)\n",
        "X['Dangerous TLD'] = X['Dangerous TLD'].astype(int)\n",
        "X['Label'] = (X['Label'] == 'good').astype(int)\n",
        "\n",
        "X.drop(columns=['URL'], inplace=True)\n",
        "\n",
        "X"
      ],
      "metadata": {
        "source_hash": "3a989ad3",
        "execution_start": 1726933093513,
        "execution_millis": 173,
        "execution_context_id": "9101b88c-106c-4b56-800a-b4ec42f20a3d",
        "cell_id": "545c35ee05a2452282eaba30915beeca",
        "deepnote_cell_type": "code",
        "execution": {
          "iopub.status.busy": "2024-09-21T19:06:49.663057Z",
          "iopub.execute_input": "2024-09-21T19:06:49.6636Z",
          "iopub.status.idle": "2024-09-21T19:06:49.802539Z",
          "shell.execute_reply.started": "2024-09-21T19:06:49.663547Z",
          "shell.execute_reply": "2024-09-21T19:06:49.801276Z"
        },
        "trusted": true,
        "id": "6I49MiS05iZd"
      },
      "outputs": [],
      "execution_count": null
    },
    {
      "cell_type": "markdown",
      "source": [
        "To appreciate the correlation between features (and target) we print the heat maps of the correlation matrix and of the correlation vector with Label (our target)."
      ],
      "metadata": {
        "formattedRanges": [
          {
            "type": "marks",
            "marks": {
              "bold": true
            },
            "toCodePoint": 150,
            "fromCodePoint": 144
          }
        ],
        "cell_id": "1555d403026440fe90b6f2d23374ee9b",
        "deepnote_cell_type": "text-cell-p",
        "id": "ciSQrdPz5iZd"
      }
    },
    {
      "cell_type": "code",
      "source": [
        "corr_matrix = X.corr()\n",
        "sns.heatmap(corr_matrix, annot=True, cmap='coolwarm', linewidths=0.5, annot_kws={\"size\": 6})\n",
        "plt.show()\n",
        "sns.heatmap(corr_matrix[['Label']].sort_values(by='Label').T, annot=True, cmap='coolwarm', linewidths=0.5, annot_kws={\"size\": 8})\n",
        "plt.show()\n",
        "print(corr_matrix[['Label']].sort_values(by='Label'))"
      ],
      "metadata": {
        "source_hash": "60e47bad",
        "execution_start": 1726933093734,
        "execution_millis": 1591,
        "execution_context_id": "9101b88c-106c-4b56-800a-b4ec42f20a3d",
        "cell_id": "a7940ad92af04c3da00d455b1595abad",
        "deepnote_cell_type": "code",
        "execution": {
          "iopub.status.busy": "2024-09-21T19:06:49.806926Z",
          "iopub.execute_input": "2024-09-21T19:06:49.807956Z",
          "iopub.status.idle": "2024-09-21T19:06:51.290703Z",
          "shell.execute_reply.started": "2024-09-21T19:06:49.8079Z",
          "shell.execute_reply": "2024-09-21T19:06:51.289598Z"
        },
        "trusted": true,
        "id": "UIhIsONP5iZd"
      },
      "outputs": [],
      "execution_count": null
    },
    {
      "cell_type": "markdown",
      "source": [
        "**Entropy** and  **URL Length** are highly correlated, so we apply PCA."
      ],
      "metadata": {
        "formattedRanges": [
          {
            "type": "marks",
            "marks": {
              "bold": true
            },
            "toCodePoint": 7,
            "fromCodePoint": 0
          },
          {
            "type": "marks",
            "marks": {
              "bold": true
            },
            "toCodePoint": 24,
            "fromCodePoint": 13
          }
        ],
        "cell_id": "7be13dc79e474345b5228bdd7f22930e",
        "deepnote_cell_type": "text-cell-p",
        "id": "bzRnXfzD5iZd"
      }
    },
    {
      "cell_type": "code",
      "source": [
        "pca = PCA(n_components=1)\n",
        "X['Entropy and length (PCA)'] = pca.fit_transform(X[['Entropy', 'URL length']])\n",
        "X.drop(columns=['Entropy', 'URL length'], inplace=True)\n",
        "\n",
        "X"
      ],
      "metadata": {
        "source_hash": "f7085642",
        "execution_start": 1726933095381,
        "execution_millis": 1141,
        "execution_context_id": "9101b88c-106c-4b56-800a-b4ec42f20a3d",
        "cell_id": "04373b953f4e406aa3eba9ee5a0dcb3d",
        "deepnote_cell_type": "code",
        "execution": {
          "iopub.status.busy": "2024-09-21T19:06:51.292105Z",
          "iopub.execute_input": "2024-09-21T19:06:51.292465Z",
          "iopub.status.idle": "2024-09-21T19:06:51.710714Z",
          "shell.execute_reply.started": "2024-09-21T19:06:51.292423Z",
          "shell.execute_reply": "2024-09-21T19:06:51.709594Z"
        },
        "trusted": true,
        "id": "rq-ePMI05iZd"
      },
      "outputs": [],
      "execution_count": null
    },
    {
      "cell_type": "markdown",
      "source": [
        "## Train-Test Split"
      ],
      "metadata": {
        "formattedRanges": [],
        "cell_id": "96fadacbd47a45419196dfb59d1f35c7",
        "deepnote_cell_type": "text-cell-h2",
        "id": "fZL37Ddt5iZd"
      }
    },
    {
      "cell_type": "markdown",
      "source": [
        "Since we are working with a binary classification problem, it's important to make sure that both classes ('bad' and 'good') are approximately equally represented in the dataset."
      ],
      "metadata": {
        "formattedRanges": [],
        "cell_id": "51a602e8e2284880b2327fd695fa05e6",
        "deepnote_cell_type": "text-cell-p",
        "id": "Z0jZxIt35iZd"
      }
    },
    {
      "cell_type": "code",
      "source": [
        "X['Label'].value_counts(normalize=True)"
      ],
      "metadata": {
        "source_hash": "a7086632",
        "execution_start": 1726933096565,
        "execution_millis": 1,
        "execution_context_id": "9101b88c-106c-4b56-800a-b4ec42f20a3d",
        "cell_id": "acbee675e31e488fbbeb021c48edc6c5",
        "deepnote_cell_type": "code",
        "execution": {
          "iopub.status.busy": "2024-09-21T19:06:51.712176Z",
          "iopub.execute_input": "2024-09-21T19:06:51.712899Z",
          "iopub.status.idle": "2024-09-21T19:06:51.73441Z",
          "shell.execute_reply.started": "2024-09-21T19:06:51.71285Z",
          "shell.execute_reply": "2024-09-21T19:06:51.733021Z"
        },
        "trusted": true,
        "id": "q6J21PMD5iZd"
      },
      "outputs": [],
      "execution_count": null
    },
    {
      "cell_type": "markdown",
      "source": [
        "To solve the disproportion in the dataset, we'll undersample the 'good' records (we'll conserve also the not sampled 'good' records for the testing step)."
      ],
      "metadata": {
        "formattedRanges": [],
        "cell_id": "1ce5cc27b2514099bd671733b2d70bbb",
        "deepnote_cell_type": "text-cell-p",
        "id": "95uZjYCJ5iZd"
      }
    },
    {
      "cell_type": "code",
      "source": [
        "n_samples = X['Label'].value_counts()[0]\n",
        "X_good = X[X['Label'] == 1]\n",
        "X_bad = X[X['Label'] == 0]\n",
        "X_goodsample = X_good.sample(n=n_samples, random_state=22)\n",
        "X_goodmissing = X_good.drop(X_goodsample.index)\n",
        "\n",
        "X = pd.concat([X_bad, X_goodsample], ignore_index=True)\n",
        "\n",
        "X"
      ],
      "metadata": {
        "source_hash": "bbe3f135",
        "execution_start": 1726933096623,
        "execution_millis": 201,
        "deepnote_table_state": {
          "sortBy": [],
          "filters": [],
          "pageSize": 10,
          "pageIndex": 76,
          "conditionalFilters": []
        },
        "execution_context_id": "9101b88c-106c-4b56-800a-b4ec42f20a3d",
        "deepnote_table_loading": false,
        "cell_id": "ccf9d8588bcd43189a7e9c7c319329df",
        "deepnote_cell_type": "code",
        "execution": {
          "iopub.status.busy": "2024-09-21T19:06:51.73605Z",
          "iopub.execute_input": "2024-09-21T19:06:51.736653Z",
          "iopub.status.idle": "2024-09-21T19:06:51.938456Z",
          "shell.execute_reply.started": "2024-09-21T19:06:51.736601Z",
          "shell.execute_reply": "2024-09-21T19:06:51.937332Z"
        },
        "trusted": true,
        "id": "BGGNNPVZ5iZd"
      },
      "outputs": [],
      "execution_count": null
    },
    {
      "cell_type": "markdown",
      "source": [
        "We divide features from target."
      ],
      "metadata": {
        "formattedRanges": [],
        "cell_id": "bc17ca0052fd48829e236b5b92e72696",
        "deepnote_cell_type": "text-cell-p",
        "id": "Qgd7n1jk5iZd"
      }
    },
    {
      "cell_type": "code",
      "source": [
        "y = X['Label']\n",
        "X.drop(columns=['Label'], inplace=True)"
      ],
      "metadata": {
        "source_hash": "b7dad4b2",
        "execution_start": 1726933096888,
        "execution_millis": 0,
        "execution_context_id": "9101b88c-106c-4b56-800a-b4ec42f20a3d",
        "cell_id": "76e99addacac4e94a26806c2074fde3d",
        "deepnote_cell_type": "code",
        "execution": {
          "iopub.status.busy": "2024-09-21T19:06:51.939776Z",
          "iopub.execute_input": "2024-09-21T19:06:51.940204Z",
          "iopub.status.idle": "2024-09-21T19:06:51.974702Z",
          "shell.execute_reply.started": "2024-09-21T19:06:51.940164Z",
          "shell.execute_reply": "2024-09-21T19:06:51.973573Z"
        },
        "trusted": true,
        "id": "JL66uB025iZd"
      },
      "outputs": [],
      "execution_count": null
    },
    {
      "cell_type": "markdown",
      "source": [
        "We split the data into training set and test set. We also add the 'good' URL we discarded previously to the test set."
      ],
      "metadata": {
        "formattedRanges": [],
        "cell_id": "3fcd8040b3c64f14966321d6b480e86c",
        "deepnote_cell_type": "text-cell-p",
        "id": "UwT4s0gD5iZd"
      }
    },
    {
      "cell_type": "code",
      "source": [
        "X_train, X_test, y_train, y_test = train_test_split(X, y, test_size=0.2, random_state=22)\n",
        "\n",
        "y_goodmissing = X_goodmissing['Label']\n",
        "X_goodmissing.drop(columns=['Label'], inplace=True)\n",
        "\n",
        "# Merging X_test and X_goodmissing\n",
        "\n",
        "X_test = pd.concat([X_test, X_goodmissing], axis=0)\n",
        "\n",
        "# Merging y_test and y_goodmissing\n",
        "\n",
        "y_test = pd.concat([y_test, y_goodmissing], axis=0)"
      ],
      "metadata": {
        "source_hash": "8a294308",
        "execution_start": 1726933096941,
        "execution_millis": 100,
        "execution_context_id": "9101b88c-106c-4b56-800a-b4ec42f20a3d",
        "cell_id": "c878a6e1e99d40fa93d1ab12e24d4e3d",
        "deepnote_cell_type": "code",
        "execution": {
          "iopub.status.busy": "2024-09-21T19:06:51.976149Z",
          "iopub.execute_input": "2024-09-21T19:06:51.976524Z",
          "iopub.status.idle": "2024-09-21T19:06:52.095567Z",
          "shell.execute_reply.started": "2024-09-21T19:06:51.976487Z",
          "shell.execute_reply": "2024-09-21T19:06:52.09449Z"
        },
        "trusted": true,
        "id": "0RtJXa8v5iZd"
      },
      "outputs": [],
      "execution_count": null
    },
    {
      "cell_type": "markdown",
      "source": [
        "## Construction of a ML model"
      ],
      "metadata": {
        "formattedRanges": [],
        "cell_id": "a8d3ef8d19854a46b3c33449902e8050",
        "deepnote_cell_type": "text-cell-h2",
        "id": "8jwdCZl85iZd"
      }
    },
    {
      "cell_type": "markdown",
      "source": [
        "We try two model: XGBClassifier and RandomForestClassifier. To avoid overfitting, we'll perform a cross-validation with 3 folds."
      ],
      "metadata": {
        "formattedRanges": [
          {
            "type": "marks",
            "marks": {
              "bold": true
            },
            "toCodePoint": 31,
            "fromCodePoint": 18
          },
          {
            "type": "marks",
            "marks": {
              "bold": true
            },
            "toCodePoint": 58,
            "fromCodePoint": 36
          }
        ],
        "cell_id": "40d12696f7454a4fb2ee775ac551b72e",
        "deepnote_cell_type": "text-cell-p",
        "id": "wji_6t6x5iZe"
      }
    },
    {
      "cell_type": "code",
      "source": [
        "kf = KFold(n_splits=3, shuffle=True, random_state=22)\n",
        "\n",
        "xgb_model = XGBClassifier(random_state=22)\n",
        "print(cross_val_score(xgb_model, X_train, y_train, cv=kf, scoring='accuracy').mean())\n",
        "\n",
        "rf_model = RandomForestClassifier(random_state=22)\n",
        "print(cross_val_score(rf_model, X_train, y_train, cv=kf, scoring='accuracy').mean())"
      ],
      "metadata": {
        "source_hash": "31647964",
        "execution_start": 1726933097103,
        "execution_millis": 82190,
        "execution_context_id": "9101b88c-106c-4b56-800a-b4ec42f20a3d",
        "cell_id": "66848a16176c45f4a4b6c0467a35eb4f",
        "deepnote_cell_type": "code",
        "execution": {
          "iopub.status.busy": "2024-09-21T19:06:52.096854Z",
          "iopub.execute_input": "2024-09-21T19:06:52.09723Z",
          "iopub.status.idle": "2024-09-21T19:08:45.448953Z",
          "shell.execute_reply.started": "2024-09-21T19:06:52.097188Z",
          "shell.execute_reply": "2024-09-21T19:08:45.447579Z"
        },
        "trusted": true,
        "id": "Ru4n2wCC5iZe"
      },
      "outputs": [],
      "execution_count": null
    },
    {
      "cell_type": "markdown",
      "source": [
        "The CV score of the RandomForestClassifier is slightly superior. We fit the two models and analyze the feature importances."
      ],
      "metadata": {
        "formattedRanges": [
          {
            "type": "marks",
            "marks": {
              "bold": true
            },
            "toCodePoint": 42,
            "fromCodePoint": 20
          }
        ],
        "cell_id": "80c6d7eb7bf64bac899088f06613be81",
        "deepnote_cell_type": "text-cell-p",
        "id": "ex23G_Nt5iZe"
      }
    },
    {
      "cell_type": "code",
      "source": [
        "rf_model.fit(X_train, y_train)\n",
        "importances = rf_model.feature_importances_\n",
        "feature_names = X.columns\n",
        "indices = np.argsort(importances)[::-1]\n",
        "\n",
        "plt.title('Feature Importance (RandomForestClassifier)')\n",
        "plt.bar(range(X.shape[1]), importances[indices], align='center')\n",
        "plt.xticks(range(X.shape[1]), feature_names[indices], rotation=90)\n",
        "plt.xlabel('Feature')\n",
        "plt.ylabel('Importance')\n",
        "plt.show()\n"
      ],
      "metadata": {
        "source_hash": "f395086",
        "execution_start": 1726933179345,
        "execution_millis": 36036,
        "execution_context_id": "9101b88c-106c-4b56-800a-b4ec42f20a3d",
        "cell_id": "34b38864c1e4425bbe4613f9baf7e346",
        "deepnote_cell_type": "code",
        "execution": {
          "iopub.status.busy": "2024-09-21T19:08:45.451057Z",
          "iopub.execute_input": "2024-09-21T19:08:45.451482Z",
          "iopub.status.idle": "2024-09-21T19:09:47.025496Z",
          "shell.execute_reply.started": "2024-09-21T19:08:45.451441Z",
          "shell.execute_reply": "2024-09-21T19:09:47.024264Z"
        },
        "trusted": true,
        "id": "0PG4en505iZe"
      },
      "outputs": [],
      "execution_count": null
    },
    {
      "cell_type": "code",
      "source": [
        "xgb_model.fit(X_train, y_train)\n",
        "importances = xgb_model.feature_importances_\n",
        "feature_names = X.columns\n",
        "indices = np.argsort(importances)[::-1]\n",
        "\n",
        "plt.title('Feature Importance (XGBClassifier)')\n",
        "plt.bar(range(X.shape[1]), importances[indices], align='center')\n",
        "plt.xticks(range(X.shape[1]), feature_names[indices], rotation=90)\n",
        "plt.xlabel('Feature')\n",
        "plt.ylabel('Importance')\n",
        "plt.show()"
      ],
      "metadata": {
        "source_hash": "41fcd2c2",
        "execution_start": 1726933215433,
        "execution_millis": 2571,
        "execution_context_id": "9101b88c-106c-4b56-800a-b4ec42f20a3d",
        "cell_id": "13aeafb3466c456e8c20abcc06593008",
        "deepnote_cell_type": "code",
        "execution": {
          "iopub.status.busy": "2024-09-21T19:09:47.026725Z",
          "iopub.execute_input": "2024-09-21T19:09:47.02707Z",
          "iopub.status.idle": "2024-09-21T19:09:48.888106Z",
          "shell.execute_reply.started": "2024-09-21T19:09:47.027017Z",
          "shell.execute_reply": "2024-09-21T19:09:48.886909Z"
        },
        "trusted": true,
        "id": "R2_HXc_r5iZe"
      },
      "outputs": [],
      "execution_count": null
    },
    {
      "cell_type": "markdown",
      "source": [
        "The two models, while having similar performances, give completely different feature importances. It's not entirely clear to us why this happens."
      ],
      "metadata": {
        "formattedRanges": [],
        "cell_id": "12c2a49cc3ce4973be2d05f19f97b0e1",
        "deepnote_cell_type": "text-cell-p",
        "id": "pH4-udhR5iZe"
      }
    },
    {
      "cell_type": "markdown",
      "source": [
        "We test the two models."
      ],
      "metadata": {
        "formattedRanges": [],
        "cell_id": "1197ccdf31f44e33ae7e3c7fec5f0567",
        "deepnote_cell_type": "text-cell-p",
        "id": "AjON_Twt5iZe"
      }
    },
    {
      "cell_type": "code",
      "source": [
        "from sklearn.metrics import accuracy_score\n",
        "\n",
        "rf_pred = rf_model.predict(X_test)\n",
        "xgb_pred = xgb_model.predict(X_test)\n",
        "\n",
        "print(accuracy_score(y_test, rf_pred))\n",
        "print(accuracy_score(y_test, xgb_pred))"
      ],
      "metadata": {
        "source_hash": "6d350559",
        "execution_start": 1726933218053,
        "execution_millis": 8252,
        "execution_context_id": "9101b88c-106c-4b56-800a-b4ec42f20a3d",
        "cell_id": "f9bcdfe181f74efe8548ecd94cb77cce",
        "deepnote_cell_type": "code",
        "execution": {
          "iopub.status.busy": "2024-09-21T19:09:48.889983Z",
          "iopub.execute_input": "2024-09-21T19:09:48.890604Z",
          "iopub.status.idle": "2024-09-21T19:09:57.550231Z",
          "shell.execute_reply.started": "2024-09-21T19:09:48.890549Z",
          "shell.execute_reply": "2024-09-21T19:09:57.548982Z"
        },
        "trusted": true,
        "id": "tgYK5qWb5iZe"
      },
      "outputs": [],
      "execution_count": null
    },
    {
      "cell_type": "markdown",
      "source": [
        "The accuracy of the two models is basically the same (86.4 %)."
      ],
      "metadata": {
        "formattedRanges": [],
        "cell_id": "8952508bb5e942a2b78a5fc5577a4810",
        "deepnote_cell_type": "text-cell-p",
        "id": "TQ4DMH3r5iZe"
      }
    },
    {
      "cell_type": "markdown",
      "source": [
        "## Hyperparameters Tuning"
      ],
      "metadata": {
        "is_collapsed": false,
        "formattedRanges": [],
        "deepnote_app_block_visible": false,
        "cell_id": "4330614076744c62a5d996466ac7c75b",
        "deepnote_cell_type": "text-cell-h2",
        "id": "WISBjDGD5iZe"
      }
    },
    {
      "cell_type": "markdown",
      "source": [
        "For computational reasons, we'll try to tune only the XGBClassifier model to improve its CV score (and hopefully its accuracy). We'll use a Bayesian Optimization method."
      ],
      "metadata": {
        "is_collapsed": false,
        "formattedRanges": [
          {
            "type": "marks",
            "marks": {
              "bold": true
            },
            "toCodePoint": 67,
            "fromCodePoint": 54
          }
        ],
        "deepnote_app_block_visible": false,
        "cell_id": "e11307c9d5f04d21807fa8f377840e85",
        "deepnote_cell_type": "text-cell-p",
        "id": "Ae_DMTBc5iZe"
      }
    },
    {
      "cell_type": "code",
      "source": [
        "import optuna\n",
        "\n",
        "\n",
        "\n",
        "def objective(trial):\n",
        "    n_estimators = trial.suggest_int('n_estimators', 100, 400)\n",
        "    max_depth = trial.suggest_int('max_depth', 3, 7)\n",
        "    learning_rate = trial.suggest_loguniform('learning_rate', 1e-3, 0.3)\n",
        "    subsample = trial.suggest_uniform('subsample', 0.6, 1.0)\n",
        "    reg_alpha = trial.suggest_loguniform('reg_alpha', 1e-3, 10.0)\n",
        "\n",
        "\n",
        "    model = XGBClassifier(\n",
        "        random_state=22,\n",
        "        n_estimators=n_estimators,\n",
        "        max_depth=max_depth,\n",
        "        learning_rate=learning_rate,\n",
        "        subsample=subsample,\n",
        "        reg_alpha=reg_alpha,\n",
        "        use_label_encoder=False,\n",
        "        eval_metric='mlogloss'\n",
        "    )\n",
        "\n",
        "\n",
        "    mean_score = cross_val_score(model, X, y, cv=kf, scoring='accuracy').mean()\n",
        "    return mean_score\n",
        "\n",
        "\n",
        "study = optuna.create_study(direction='maximize')\n",
        "study.optimize(objective, n_trials=50)\n",
        "\n",
        "\n",
        "print(\"Best hyperparameters:\", study.best_params)\n",
        "print(\"Best accuracy:\", study.best_value)\n",
        "\n",
        "best_xgb_model =XGBClassifier(random_state=22, **study.best_params)"
      ],
      "metadata": {
        "source_hash": "26d54c8d",
        "execution_start": 1726936826525,
        "execution_millis": 805956,
        "execution_context_id": "9101b88c-106c-4b56-800a-b4ec42f20a3d",
        "cell_id": "79a231caada1437fa1dffa6aabe7a719",
        "deepnote_cell_type": "code",
        "execution": {
          "iopub.status.busy": "2024-09-21T19:10:54.650256Z",
          "iopub.execute_input": "2024-09-21T19:10:54.650857Z",
          "iopub.status.idle": "2024-09-21T19:21:10.899504Z",
          "shell.execute_reply.started": "2024-09-21T19:10:54.65081Z",
          "shell.execute_reply": "2024-09-21T19:21:10.898318Z"
        },
        "trusted": true,
        "id": "jbvXgHxL5iZe"
      },
      "outputs": [],
      "execution_count": null
    },
    {
      "cell_type": "markdown",
      "source": [
        "Let's see how the tuned XGBClassifiers performs on the test set."
      ],
      "metadata": {
        "formattedRanges": [],
        "cell_id": "9d493611deda4dd2af3899c5eef83d38",
        "deepnote_cell_type": "text-cell-p",
        "id": "tkqSne6Q5iZf"
      }
    },
    {
      "cell_type": "code",
      "source": [
        "best_xgb_model.fit(X_train, y_train)\n",
        "\n",
        "best_xgb_pred = best_xgb_model.predict(X_test)\n",
        "\n",
        "print(accuracy_score(y_test, best_xgb_pred))\n"
      ],
      "metadata": {
        "source_hash": "d4c29da5",
        "execution_start": 1726938028197,
        "execution_millis": 11567,
        "execution_context_id": "9101b88c-106c-4b56-800a-b4ec42f20a3d",
        "cell_id": "e903540515174b7b80a32dd08124ba32",
        "deepnote_cell_type": "code",
        "execution": {
          "iopub.status.busy": "2024-09-21T19:21:28.594148Z",
          "iopub.execute_input": "2024-09-21T19:21:28.594593Z",
          "iopub.status.idle": "2024-09-21T19:21:42.695149Z",
          "shell.execute_reply.started": "2024-09-21T19:21:28.594551Z",
          "shell.execute_reply": "2024-09-21T19:21:42.693982Z"
        },
        "trusted": true,
        "id": "_T3GqvPa5iZf"
      },
      "outputs": [],
      "execution_count": null
    },
    {
      "cell_type": "markdown",
      "source": [
        "## Conclusions\n",
        "\n",
        "We managed to develop a ML model that predicts whether a URL is used for Phishing with an accuracy of **87%** (using only features extracted from the URL string). The importance of the features in the prediction of the result is not entirely clear (to us)."
      ],
      "metadata": {
        "is_collapsed": false,
        "formattedRanges": [],
        "deepnote_app_block_visible": false,
        "cell_id": "8512b362a6f0450b92e20e492b793e9f",
        "deepnote_cell_type": "text-cell-h2",
        "id": "3S59a0bH5iZf"
      }
    }
  ]
}